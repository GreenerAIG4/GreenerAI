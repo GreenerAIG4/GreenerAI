{
 "cells": [
  {
   "cell_type": "markdown",
   "metadata": {},
   "source": [
    "Credit: https://www.analyticsvidhya.com/blog/2019/03/learn-to-use-elmo-to-extract-features-from-text/"
   ]
  },
  {
   "cell_type": "markdown",
   "metadata": {},
   "source": [
    "## Install SpaCy, which is an open-source for NLP in Python"
   ]
  },
  {
   "cell_type": "code",
   "execution_count": 20,
   "metadata": {},
   "outputs": [
    {
     "name": "stdout",
     "output_type": "stream",
     "text": [
      "Collecting package metadata (current_repodata.json): done\n",
      "Solving environment: failed with initial frozen solve. Retrying with flexible solve.\n",
      "Solving environment: failed with repodata from current_repodata.json, will retry with next repodata source.\n",
      "Collecting package metadata (repodata.json): done\n",
      "Solving environment: done\n",
      "\n",
      "\n",
      "==> WARNING: A newer version of conda exists. <==\n",
      "  current version: 4.8.3\n",
      "  latest version: 4.10.1\n",
      "\n",
      "Please update conda by running\n",
      "\n",
      "    $ conda update -n base -c defaults conda\n",
      "\n",
      "\n",
      "\n",
      "## Package Plan ##\n",
      "\n",
      "  environment location: /Users/valerie/opt/anaconda3\n",
      "\n",
      "  added / updated specs:\n",
      "    - spacy\n",
      "\n",
      "\n",
      "The following packages will be downloaded:\n",
      "\n",
      "    package                    |            build\n",
      "    ---------------------------|-----------------\n",
      "    certifi-2019.11.28         |           py37_0         148 KB  conda-forge\n",
      "    conda-4.10.1               |   py37hf985489_0         3.0 MB  conda-forge\n",
      "    cymem-2.0.2                |   py37h6de7cb9_0          31 KB  conda-forge\n",
      "    cython-blis-0.2.4          |   py37h01d97ff_1         2.2 MB  conda-forge\n",
      "    murmurhash-1.0.0           |   py37hfc679d8_0          16 KB  conda-forge\n",
      "    plac-0.9.6                 |             py_1          18 KB  conda-forge\n",
      "    preshed-2.0.1              |   py37h6de7cb9_0          64 KB  conda-forge\n",
      "    python_abi-3.7             |          1_cp37m           4 KB  conda-forge\n",
      "    spacy-2.1.8                |   py37h770b8ee_0        61.4 MB  conda-forge\n",
      "    srsly-0.1.0                |   py37h6de7cb9_0         188 KB  conda-forge\n",
      "    thinc-7.0.8                |   py37h770b8ee_0         1.4 MB  conda-forge\n",
      "    wasabi-0.8.2               |     pyh44b312d_0          23 KB  conda-forge\n",
      "    ------------------------------------------------------------\n",
      "                                           Total:        68.5 MB\n",
      "\n",
      "The following NEW packages will be INSTALLED:\n",
      "\n",
      "  cymem              conda-forge/osx-64::cymem-2.0.2-py37h6de7cb9_0\n",
      "  cython-blis        conda-forge/osx-64::cython-blis-0.2.4-py37h01d97ff_1\n",
      "  murmurhash         conda-forge/osx-64::murmurhash-1.0.0-py37hfc679d8_0\n",
      "  plac               conda-forge/noarch::plac-0.9.6-py_1\n",
      "  preshed            conda-forge/osx-64::preshed-2.0.1-py37h6de7cb9_0\n",
      "  python_abi         conda-forge/osx-64::python_abi-3.7-1_cp37m\n",
      "  spacy              conda-forge/osx-64::spacy-2.1.8-py37h770b8ee_0\n",
      "  srsly              conda-forge/osx-64::srsly-0.1.0-py37h6de7cb9_0\n",
      "  thinc              conda-forge/osx-64::thinc-7.0.8-py37h770b8ee_0\n",
      "  wasabi             conda-forge/noarch::wasabi-0.8.2-pyh44b312d_0\n",
      "\n",
      "The following packages will be UPDATED:\n",
      "\n",
      "  conda                       pkgs/main::conda-4.8.3-py37_0 --> conda-forge::conda-4.10.1-py37hf985489_0\n",
      "\n",
      "The following packages will be SUPERSEDED by a higher-priority channel:\n",
      "\n",
      "  certifi                                         pkgs/main --> conda-forge\n",
      "\n",
      "\n",
      "\n",
      "Downloading and Extracting Packages\n",
      "wasabi-0.8.2         | 23 KB     | ##################################### | 100% \n",
      "srsly-0.1.0          | 188 KB    | ##################################### | 100% \n",
      "cython-blis-0.2.4    | 2.2 MB    | ##################################### | 100% \n",
      "thinc-7.0.8          | 1.4 MB    | ##################################### | 100% \n",
      "certifi-2019.11.28   | 148 KB    | ##################################### | 100% \n",
      "plac-0.9.6           | 18 KB     | ##################################### | 100% \n",
      "cymem-2.0.2          | 31 KB     | ##################################### | 100% \n",
      "python_abi-3.7       | 4 KB      | ##################################### | 100% \n",
      "murmurhash-1.0.0     | 16 KB     | ##################################### | 100% \n",
      "conda-4.10.1         | 3.0 MB    | ##################################### | 100% \n",
      "preshed-2.0.1        | 64 KB     | ##################################### | 100% \n",
      "spacy-2.1.8          | 61.4 MB   | ##################################### | 100% \n",
      "Preparing transaction: done\n",
      "Verifying transaction: done\n",
      "Executing transaction: done\n",
      "\n",
      "Note: you may need to restart the kernel to use updated packages.\n"
     ]
    }
   ],
   "source": [
    "conda install -c conda-forge spacy"
   ]
  },
  {
   "cell_type": "code",
   "execution_count": 25,
   "metadata": {},
   "outputs": [],
   "source": [
    "import pandas as pd\n",
    "import numpy as np\n",
    "import spacy\n",
    "from tqdm import tqdm\n",
    "import re\n",
    "import time\n",
    "import pickle\n",
    "pd.set_option('display.max_colwidth', 200)"
   ]
  },
  {
   "cell_type": "code",
   "execution_count": 37,
   "metadata": {},
   "outputs": [
    {
     "data": {
      "text/plain": [
       "((7920, 3), (1953, 2))"
      ]
     },
     "execution_count": 37,
     "metadata": {},
     "output_type": "execute_result"
    }
   ],
   "source": [
    "# read data\n",
    "train = pd.read_csv('/Users/valerie/Downloads/train_2kmZucJ.csv')\n",
    "test = pd.read_csv(\"/Users/valerie/Downloads/test_oJQbWVk.csv\")\n",
    "\n",
    "train.shape, test.shape"
   ]
  },
  {
   "cell_type": "code",
   "execution_count": 38,
   "metadata": {},
   "outputs": [
    {
     "data": {
      "text/plain": [
       "0    0.744192\n",
       "1    0.255808\n",
       "Name: label, dtype: float64"
      ]
     },
     "execution_count": 38,
     "metadata": {},
     "output_type": "execute_result"
    }
   ],
   "source": [
    "train['label'].value_counts(normalize = True)"
   ]
  },
  {
   "cell_type": "markdown",
   "metadata": {},
   "source": [
    "0: A non-negative tweet, \n",
    "1: A negative tweet"
   ]
  },
  {
   "cell_type": "code",
   "execution_count": 41,
   "metadata": {
    "scrolled": true
   },
   "outputs": [
    {
     "data": {
      "text/html": [
       "<div>\n",
       "<style scoped>\n",
       "    .dataframe tbody tr th:only-of-type {\n",
       "        vertical-align: middle;\n",
       "    }\n",
       "\n",
       "    .dataframe tbody tr th {\n",
       "        vertical-align: top;\n",
       "    }\n",
       "\n",
       "    .dataframe thead th {\n",
       "        text-align: right;\n",
       "    }\n",
       "</style>\n",
       "<table border=\"1\" class=\"dataframe\">\n",
       "  <thead>\n",
       "    <tr style=\"text-align: right;\">\n",
       "      <th></th>\n",
       "      <th>id</th>\n",
       "      <th>label</th>\n",
       "      <th>tweet</th>\n",
       "    </tr>\n",
       "  </thead>\n",
       "  <tbody>\n",
       "    <tr>\n",
       "      <th>0</th>\n",
       "      <td>1</td>\n",
       "      <td>0</td>\n",
       "      <td>#fingerprint #Pregnancy Test https://goo.gl/h1MfQV #android #apps #beautiful #cute #health #igers #iphoneonly #iphonesia #iphone</td>\n",
       "    </tr>\n",
       "    <tr>\n",
       "      <th>1</th>\n",
       "      <td>2</td>\n",
       "      <td>0</td>\n",
       "      <td>Finally a transparant silicon case ^^ Thanks to my uncle :) #yay #Sony #Xperia #S #sonyexperias… http://instagram.com/p/YGEt5JC6JM/</td>\n",
       "    </tr>\n",
       "    <tr>\n",
       "      <th>2</th>\n",
       "      <td>3</td>\n",
       "      <td>0</td>\n",
       "      <td>We love this! Would you go? #talk #makememories #unplug #relax #iphone #smartphone #wifi #connect... http://fb.me/6N3LsUpCu</td>\n",
       "    </tr>\n",
       "    <tr>\n",
       "      <th>3</th>\n",
       "      <td>4</td>\n",
       "      <td>0</td>\n",
       "      <td>I'm wired I know I'm George I was made that way ;) #iphone #cute #daventry #home http://instagr.am/p/Li_5_ujS4k/</td>\n",
       "    </tr>\n",
       "    <tr>\n",
       "      <th>4</th>\n",
       "      <td>5</td>\n",
       "      <td>1</td>\n",
       "      <td>What amazing service! Apple won't even talk to me about a question I have unless I pay them $19.95 for their stupid support!</td>\n",
       "    </tr>\n",
       "  </tbody>\n",
       "</table>\n",
       "</div>"
      ],
      "text/plain": [
       "   id  label  \\\n",
       "0   1      0   \n",
       "1   2      0   \n",
       "2   3      0   \n",
       "3   4      0   \n",
       "4   5      1   \n",
       "\n",
       "                                                                                                                                 tweet  \n",
       "0     #fingerprint #Pregnancy Test https://goo.gl/h1MfQV #android #apps #beautiful #cute #health #igers #iphoneonly #iphonesia #iphone  \n",
       "1  Finally a transparant silicon case ^^ Thanks to my uncle :) #yay #Sony #Xperia #S #sonyexperias… http://instagram.com/p/YGEt5JC6JM/  \n",
       "2          We love this! Would you go? #talk #makememories #unplug #relax #iphone #smartphone #wifi #connect... http://fb.me/6N3LsUpCu  \n",
       "3                     I'm wired I know I'm George I was made that way ;) #iphone #cute #daventry #home http://instagr.am/p/Li_5_ujS4k/  \n",
       "4         What amazing service! Apple won't even talk to me about a question I have unless I pay them $19.95 for their stupid support!  "
      ]
     },
     "execution_count": 41,
     "metadata": {},
     "output_type": "execute_result"
    }
   ],
   "source": [
    "train.head()"
   ]
  },
  {
   "cell_type": "markdown",
   "metadata": {},
   "source": [
    "If you take a look at id 5, the label is 1. This means this train model recognizes the tweet as a negative. The model seems to work fine especially when you see \"for their stupid support!\""
   ]
  },
  {
   "cell_type": "code",
   "execution_count": 43,
   "metadata": {},
   "outputs": [],
   "source": [
    "# remove URL's from train and test\n",
    "train['clean_tweet'] = train['tweet'].apply(lambda x: re.sub(r'http\\S+', '', x))\n",
    "\n",
    "test['clean_tweet'] = test['tweet'].apply(lambda x: re.sub(r'http\\S+', '', x))"
   ]
  },
  {
   "cell_type": "code",
   "execution_count": 50,
   "metadata": {},
   "outputs": [
    {
     "name": "stdout",
     "output_type": "stream",
     "text": [
      "Collecting en_core_web_sm==2.1.0\n",
      "  Downloading https://github.com/explosion/spacy-models/releases/download/en_core_web_sm-2.1.0/en_core_web_sm-2.1.0.tar.gz (11.1 MB)\n",
      "\u001b[K     |████████████████████████████████| 11.1 MB 8.4 MB/s eta 0:00:01\n",
      "\u001b[?25hBuilding wheels for collected packages: en-core-web-sm\n",
      "  Building wheel for en-core-web-sm (setup.py) ... \u001b[?25ldone\n",
      "\u001b[?25h  Created wheel for en-core-web-sm: filename=en_core_web_sm-2.1.0-py3-none-any.whl size=11074433 sha256=5748e1d1e305c18a96e5a275ffe9614b93706464e62626443704c08c7c572e49\n",
      "  Stored in directory: /private/var/folders/br/z14fx45s7x31tlc24wq2_c0h0000gn/T/pip-ephem-wheel-cache-sfscysvk/wheels/59/4f/8c/0dbaab09a776d1fa3740e9465078bfd903cc22f3985382b496\n",
      "Successfully built en-core-web-sm\n",
      "Installing collected packages: en-core-web-sm\n",
      "Successfully installed en-core-web-sm-2.1.0\n",
      "\u001b[38;5;2m✔ Download and installation successful\u001b[0m\n",
      "You can now load the model via spacy.load('en_core_web_sm')\n",
      "\u001b[38;5;2m✔ Linking successful\u001b[0m\n",
      "/Users/valerie/opt/anaconda3/lib/python3.7/site-packages/en_core_web_sm -->\n",
      "/Users/valerie/opt/anaconda3/lib/python3.7/site-packages/spacy/data/en\n",
      "You can now load the model via spacy.load('en')\n"
     ]
    }
   ],
   "source": [
    "!python -m spacy download en"
   ]
  },
  {
   "cell_type": "code",
   "execution_count": 51,
   "metadata": {},
   "outputs": [],
   "source": [
    "# import spaCy's language model\n",
    "nlp = spacy.load('en', disable=['parser', 'ner'])\n",
    "\n",
    "# function to lemmatize text\n",
    "def lemmatization(texts):\n",
    "    output = []\n",
    "    for i in texts:\n",
    "        s = [token.lemma_ for token in nlp(i)]\n",
    "        output.append(' '.join(s))\n",
    "    return output"
   ]
  },
  {
   "cell_type": "code",
   "execution_count": 52,
   "metadata": {},
   "outputs": [],
   "source": [
    "train['clean_tweet'] = lemmatization(train['clean_tweet'])\n",
    "test['clean_tweet'] = lemmatization(test['clean_tweet'])"
   ]
  },
  {
   "cell_type": "code",
   "execution_count": 53,
   "metadata": {},
   "outputs": [
    {
     "data": {
      "text/html": [
       "<div>\n",
       "<style scoped>\n",
       "    .dataframe tbody tr th:only-of-type {\n",
       "        vertical-align: middle;\n",
       "    }\n",
       "\n",
       "    .dataframe tbody tr th {\n",
       "        vertical-align: top;\n",
       "    }\n",
       "\n",
       "    .dataframe thead th {\n",
       "        text-align: right;\n",
       "    }\n",
       "</style>\n",
       "<table border=\"1\" class=\"dataframe\">\n",
       "  <thead>\n",
       "    <tr style=\"text-align: right;\">\n",
       "      <th></th>\n",
       "      <th>id</th>\n",
       "      <th>label</th>\n",
       "      <th>tweet</th>\n",
       "      <th>clean_tweet</th>\n",
       "    </tr>\n",
       "  </thead>\n",
       "  <tbody>\n",
       "    <tr>\n",
       "      <th>6212</th>\n",
       "      <td>6213</td>\n",
       "      <td>0</td>\n",
       "      <td>BIRTHDAY BOYYYY him #cute #smile #iphone #nova #15cs birthday #cutest #exi @ Barquisimeto http://instagr.am/p/S0uODnLOyy/</td>\n",
       "      <td>BIRTHDAY boyyyy -PRON- # cute # smile # iphone # nova # 15cs birthday # cutest # exi @ Barquisimeto</td>\n",
       "    </tr>\n",
       "    <tr>\n",
       "      <th>2927</th>\n",
       "      <td>2928</td>\n",
       "      <td>0</td>\n",
       "      <td>so i guess #tmobilestillsucks will be a #tt soon..#fail .... i my #iphone now more than ever!!!</td>\n",
       "      <td>so i guess # tmobilestillsuck will be a # tt soon .. #fail .... i -PRON- # iphone now more than ever ! ! !</td>\n",
       "    </tr>\n",
       "    <tr>\n",
       "      <th>6825</th>\n",
       "      <td>6826</td>\n",
       "      <td>1</td>\n",
       "      <td>You suck ! #suck #why #why #why #over #thinking #apple #iphone #now #weed http://instagram.com/p/e_tNIROIGf/</td>\n",
       "      <td>-PRON- suck ! # suck # why # why # why # over # think # apple # iphone # now # weed</td>\n",
       "    </tr>\n",
       "    <tr>\n",
       "      <th>5850</th>\n",
       "      <td>5851</td>\n",
       "      <td>0</td>\n",
       "      <td>Looks good . #impala #money #clarksvilletn #popcorn #poptart #nike #clarksvilletn #iphone… https://www.instagram.com/p/Bb1-NyIHL5F/</td>\n",
       "      <td>look good . # impala # money # clarksvilletn # popcorn # poptart # nike # clarksvilletn # iphone …</td>\n",
       "    </tr>\n",
       "    <tr>\n",
       "      <th>2031</th>\n",
       "      <td>2032</td>\n",
       "      <td>0</td>\n",
       "      <td>#100happydays day12: DIY cord protector. Thanks @airente #cute #samsung #headset #InstaMagAndroid http://instagram.com/p/st_zv7TUUr/</td>\n",
       "      <td># 100happydays day12 : DIY cord protector . thank @airente # cute # samsung # headset # InstaMagAndroid</td>\n",
       "    </tr>\n",
       "    <tr>\n",
       "      <th>4532</th>\n",
       "      <td>4533</td>\n",
       "      <td>0</td>\n",
       "      <td>taken by #XperiaC4 #selfie #moment #U &amp; #I #xperia #myxperia #xperiaid #xperiaz1 #sony… https://instagram.com/p/8vC-y3Sp9I/</td>\n",
       "      <td>take by # XperiaC4 # selfie # moment # U &amp; # -PRON- # xperia # myxperia # xperiaid # xperiaz1 # sony …</td>\n",
       "    </tr>\n",
       "    <tr>\n",
       "      <th>4624</th>\n",
       "      <td>4625</td>\n",
       "      <td>0</td>\n",
       "      <td>$&amp;@*# I'm n got a #iPHONE for xMas.... I still got my bbm though... 786# is dead in a few hours holla@me on my 646# don't eva erace dat!</td>\n",
       "      <td>$ &amp; @ * # -PRON- be n get a # iPHONE for xMas .... -PRON- still get -PRON- bbm though ... 786 # be dead in a few hour holla@me on -PRON- 646 # do not eva erace dat !</td>\n",
       "    </tr>\n",
       "    <tr>\n",
       "      <th>1084</th>\n",
       "      <td>1085</td>\n",
       "      <td>1</td>\n",
       "      <td>I am getting very frustrated with my iPhone 4... It's time to take it into the store :/ #Apple #Problems</td>\n",
       "      <td>-PRON- be get very frustrated with -PRON- iPhone 4 ... -PRON- be time to take -PRON- into the store :/ # Apple # problem</td>\n",
       "    </tr>\n",
       "    <tr>\n",
       "      <th>2535</th>\n",
       "      <td>2536</td>\n",
       "      <td>0</td>\n",
       "      <td>I seriously didn't think itunes could get less visually appealing. #apple</td>\n",
       "      <td>-PRON- seriously do not think itune could get less visually appealing . # apple</td>\n",
       "    </tr>\n",
       "    <tr>\n",
       "      <th>4096</th>\n",
       "      <td>4097</td>\n",
       "      <td>1</td>\n",
       "      <td>when my phone dies on me at 50% and it's in the time of an emergency</td>\n",
       "      <td>when -PRON- phone die on -PRON- at 50 % and -PRON- be in the time of an emergency</td>\n",
       "    </tr>\n",
       "  </tbody>\n",
       "</table>\n",
       "</div>"
      ],
      "text/plain": [
       "        id  label  \\\n",
       "6212  6213      0   \n",
       "2927  2928      0   \n",
       "6825  6826      1   \n",
       "5850  5851      0   \n",
       "2031  2032      0   \n",
       "4532  4533      0   \n",
       "4624  4625      0   \n",
       "1084  1085      1   \n",
       "2535  2536      0   \n",
       "4096  4097      1   \n",
       "\n",
       "                                                                                                                                         tweet  \\\n",
       "6212                 BIRTHDAY BOYYYY him #cute #smile #iphone #nova #15cs birthday #cutest #exi @ Barquisimeto http://instagr.am/p/S0uODnLOyy/   \n",
       "2927                                           so i guess #tmobilestillsucks will be a #tt soon..#fail .... i my #iphone now more than ever!!!   \n",
       "6825                              You suck ! #suck #why #why #why #over #thinking #apple #iphone #now #weed http://instagram.com/p/e_tNIROIGf/   \n",
       "5850       Looks good . #impala #money #clarksvilletn #popcorn #poptart #nike #clarksvilletn #iphone… https://www.instagram.com/p/Bb1-NyIHL5F/   \n",
       "2031      #100happydays day12: DIY cord protector. Thanks @airente #cute #samsung #headset #InstaMagAndroid http://instagram.com/p/st_zv7TUUr/   \n",
       "4532               taken by #XperiaC4 #selfie #moment #U & #I #xperia #myxperia #xperiaid #xperiaz1 #sony… https://instagram.com/p/8vC-y3Sp9I/   \n",
       "4624  $&@*# I'm n got a #iPHONE for xMas.... I still got my bbm though... 786# is dead in a few hours holla@me on my 646# don't eva erace dat!   \n",
       "1084                                  I am getting very frustrated with my iPhone 4... It's time to take it into the store :/ #Apple #Problems   \n",
       "2535                                                                 I seriously didn't think itunes could get less visually appealing. #apple   \n",
       "4096                                                                      when my phone dies on me at 50% and it's in the time of an emergency   \n",
       "\n",
       "                                                                                                                                                                clean_tweet  \n",
       "6212                                                                    BIRTHDAY boyyyy -PRON- # cute # smile # iphone # nova # 15cs birthday # cutest # exi @ Barquisimeto  \n",
       "2927                                                             so i guess # tmobilestillsuck will be a # tt soon .. #fail .... i -PRON- # iphone now more than ever ! ! !  \n",
       "6825                                                                                    -PRON- suck ! # suck # why # why # why # over # think # apple # iphone # now # weed  \n",
       "5850                                                                     look good . # impala # money # clarksvilletn # popcorn # poptart # nike # clarksvilletn # iphone …  \n",
       "2031                                                                # 100happydays day12 : DIY cord protector . thank @airente # cute # samsung # headset # InstaMagAndroid  \n",
       "4532                                                                 take by # XperiaC4 # selfie # moment # U & # -PRON- # xperia # myxperia # xperiaid # xperiaz1 # sony …  \n",
       "4624  $ & @ * # -PRON- be n get a # iPHONE for xMas .... -PRON- still get -PRON- bbm though ... 786 # be dead in a few hour holla@me on -PRON- 646 # do not eva erace dat !  \n",
       "1084                                               -PRON- be get very frustrated with -PRON- iPhone 4 ... -PRON- be time to take -PRON- into the store :/ # Apple # problem  \n",
       "2535                                                                                        -PRON- seriously do not think itune could get less visually appealing . # apple  \n",
       "4096                                                                                      when -PRON- phone die on -PRON- at 50 % and -PRON- be in the time of an emergency  "
      ]
     },
     "execution_count": 53,
     "metadata": {},
     "output_type": "execute_result"
    }
   ],
   "source": [
    "train.sample(10)"
   ]
  },
  {
   "cell_type": "code",
   "execution_count": 100,
   "metadata": {},
   "outputs": [
    {
     "name": "stdout",
     "output_type": "stream",
     "text": [
      "Collecting tensorflow==1.14.0\n",
      "  Downloading tensorflow-1.14.0-cp37-cp37m-macosx_10_11_x86_64.whl (105.8 MB)\n",
      "\u001b[K     |████████████████████████████████| 105.8 MB 6.2 MB/s eta 0:00:01\n",
      "\u001b[?25hRequirement already satisfied: keras-preprocessing>=1.0.5 in ./opt/anaconda3/lib/python3.7/site-packages (from tensorflow==1.14.0) (1.1.2)\n",
      "Requirement already satisfied: numpy<2.0,>=1.14.5 in ./opt/anaconda3/lib/python3.7/site-packages (from tensorflow==1.14.0) (1.20.2)\n",
      "Requirement already satisfied: google-pasta>=0.1.6 in ./opt/anaconda3/lib/python3.7/site-packages (from tensorflow==1.14.0) (0.2.0)\n",
      "Requirement already satisfied: protobuf>=3.6.1 in ./opt/anaconda3/lib/python3.7/site-packages (from tensorflow==1.14.0) (3.15.8)\n",
      "Requirement already satisfied: wrapt>=1.11.1 in ./opt/anaconda3/lib/python3.7/site-packages (from tensorflow==1.14.0) (1.12.1)\n",
      "Requirement already satisfied: wheel>=0.26 in ./opt/anaconda3/lib/python3.7/site-packages (from tensorflow==1.14.0) (0.36.2)\n",
      "Requirement already satisfied: astor>=0.6.0 in ./opt/anaconda3/lib/python3.7/site-packages (from tensorflow==1.14.0) (0.8.1)\n",
      "Requirement already satisfied: keras-applications>=1.0.6 in ./opt/anaconda3/lib/python3.7/site-packages (from tensorflow==1.14.0) (1.0.8)\n",
      "Requirement already satisfied: termcolor>=1.1.0 in ./opt/anaconda3/lib/python3.7/site-packages (from tensorflow==1.14.0) (1.1.0)\n",
      "Collecting tensorboard<1.15.0,>=1.14.0\n",
      "  Downloading tensorboard-1.14.0-py3-none-any.whl (3.1 MB)\n",
      "\u001b[K     |████████████████████████████████| 3.1 MB 2.8 MB/s eta 0:00:01\n",
      "\u001b[?25hRequirement already satisfied: gast>=0.2.0 in ./opt/anaconda3/lib/python3.7/site-packages (from tensorflow==1.14.0) (0.4.0)\n",
      "Requirement already satisfied: absl-py>=0.7.0 in ./opt/anaconda3/lib/python3.7/site-packages (from tensorflow==1.14.0) (0.12.0)\n",
      "Collecting tensorflow-estimator<1.15.0rc0,>=1.14.0rc0\n",
      "  Downloading tensorflow_estimator-1.14.0-py2.py3-none-any.whl (488 kB)\n",
      "\u001b[K     |████████████████████████████████| 488 kB 3.1 MB/s eta 0:00:01\n",
      "\u001b[?25hRequirement already satisfied: grpcio>=1.8.6 in ./opt/anaconda3/lib/python3.7/site-packages (from tensorflow==1.14.0) (1.34.1)\n",
      "Requirement already satisfied: six>=1.10.0 in ./opt/anaconda3/lib/python3.7/site-packages (from tensorflow==1.14.0) (1.15.0)\n",
      "Requirement already satisfied: h5py in ./opt/anaconda3/lib/python3.7/site-packages (from keras-applications>=1.0.6->tensorflow==1.14.0) (3.1.0)\n",
      "Requirement already satisfied: werkzeug>=0.11.15 in ./opt/anaconda3/lib/python3.7/site-packages (from tensorboard<1.15.0,>=1.14.0->tensorflow==1.14.0) (1.0.0)\n",
      "Collecting setuptools>=41.0.0\n",
      "  Downloading setuptools-56.0.0-py3-none-any.whl (784 kB)\n",
      "\u001b[K     |████████████████████████████████| 784 kB 4.4 MB/s eta 0:00:01\n",
      "\u001b[?25hRequirement already satisfied: markdown>=2.6.8 in ./opt/anaconda3/lib/python3.7/site-packages (from tensorboard<1.15.0,>=1.14.0->tensorflow==1.14.0) (3.3.4)\n",
      "Requirement already satisfied: cached-property; python_version < \"3.8\" in ./opt/anaconda3/lib/python3.7/site-packages (from h5py->keras-applications>=1.0.6->tensorflow==1.14.0) (1.5.2)\n",
      "Requirement already satisfied: importlib-metadata; python_version < \"3.8\" in ./opt/anaconda3/lib/python3.7/site-packages (from markdown>=2.6.8->tensorboard<1.15.0,>=1.14.0->tensorflow==1.14.0) (1.5.0)\n",
      "Requirement already satisfied: zipp>=0.5 in ./opt/anaconda3/lib/python3.7/site-packages (from importlib-metadata; python_version < \"3.8\"->markdown>=2.6.8->tensorboard<1.15.0,>=1.14.0->tensorflow==1.14.0) (2.2.0)\n",
      "Installing collected packages: setuptools, tensorboard, tensorflow-estimator, tensorflow\n",
      "  Attempting uninstall: tensorboard\n",
      "    Found existing installation: tensorboard 2.5.0\n",
      "    Uninstalling tensorboard-2.5.0:\n",
      "      Successfully uninstalled tensorboard-2.5.0\n",
      "  Attempting uninstall: tensorflow-estimator\n",
      "    Found existing installation: tensorflow-estimator 2.5.0rc0\n",
      "    Uninstalling tensorflow-estimator-2.5.0rc0:\n",
      "      Successfully uninstalled tensorflow-estimator-2.5.0rc0\n",
      "Successfully installed setuptools-56.0.0 tensorboard-1.14.0 tensorflow-1.14.0 tensorflow-estimator-1.14.0\n"
     ]
    }
   ],
   "source": [
    "!pip install 'tensorflow==1.14.0'"
   ]
  },
  {
   "cell_type": "code",
   "execution_count": 55,
   "metadata": {
    "collapsed": true
   },
   "outputs": [
    {
     "name": "stdout",
     "output_type": "stream",
     "text": [
      "Collecting tensorflow-hub\n",
      "  Downloading tensorflow_hub-0.12.0-py2.py3-none-any.whl (108 kB)\n",
      "\u001b[K     |████████████████████████████████| 108 kB 1.2 MB/s eta 0:00:01\n",
      "\u001b[?25hRequirement already satisfied: protobuf>=3.8.0 in ./opt/anaconda3/lib/python3.7/site-packages (from tensorflow-hub) (3.15.8)\n",
      "Requirement already satisfied: numpy>=1.12.0 in ./opt/anaconda3/lib/python3.7/site-packages (from tensorflow-hub) (1.19.5)\n",
      "Requirement already satisfied: six>=1.9 in ./opt/anaconda3/lib/python3.7/site-packages (from protobuf>=3.8.0->tensorflow-hub) (1.15.0)\n",
      "Installing collected packages: tensorflow-hub\n",
      "Successfully installed tensorflow-hub-0.12.0\n"
     ]
    }
   ],
   "source": [
    "!pip install tensorflow-hub"
   ]
  },
  {
   "cell_type": "code",
   "execution_count": 110,
   "metadata": {
    "scrolled": false
   },
   "outputs": [],
   "source": [
    "import tensorflow_hub as hub\n",
    "import tensorflow as tf\n",
    "\n",
    "elmo = hub.KerasLayer(\"https://tfhub.dev/google/elmo/3\", trainable=True, signature=\"default\")"
   ]
  },
  {
   "cell_type": "code",
   "execution_count": 92,
   "metadata": {},
   "outputs": [],
   "source": [
    "# just a random sentence\n",
    "x = [\"Roasted ants are a popular snack in Columbia\"]"
   ]
  },
  {
   "cell_type": "code",
   "execution_count": 112,
   "metadata": {},
   "outputs": [
    {
     "ename": "ValueError",
     "evalue": "Setting hub.KerasLayer.trainable = True is unsupported when loading from the TF1 Hub format.",
     "output_type": "error",
     "traceback": [
      "\u001b[0;31m---------------------------------------------------------------------------\u001b[0m",
      "\u001b[0;31mValueError\u001b[0m                                Traceback (most recent call last)",
      "\u001b[0;32m<ipython-input-112-b4b90acb5fcc>\u001b[0m in \u001b[0;36m<module>\u001b[0;34m\u001b[0m\n\u001b[1;32m      1\u001b[0m \u001b[0;31m# Extract ELMo features\u001b[0m\u001b[0;34m\u001b[0m\u001b[0;34m\u001b[0m\u001b[0;34m\u001b[0m\u001b[0m\n\u001b[0;32m----> 2\u001b[0;31m \u001b[0membeddings\u001b[0m \u001b[0;34m=\u001b[0m \u001b[0melmo\u001b[0m\u001b[0;34m(\u001b[0m\u001b[0;34m[\u001b[0m\u001b[0mx\u001b[0m\u001b[0;34m]\u001b[0m\u001b[0;34m)\u001b[0m\u001b[0;34m\u001b[0m\u001b[0;34m\u001b[0m\u001b[0m\n\u001b[0m",
      "\u001b[0;32m~/opt/anaconda3/lib/python3.7/site-packages/tensorflow/python/keras/engine/base_layer.py\u001b[0m in \u001b[0;36m__call__\u001b[0;34m(self, *args, **kwargs)\u001b[0m\n\u001b[1;32m   1028\u001b[0m     This call is ignored when eager execution is enabled (in that case, variable\n\u001b[1;32m   1029\u001b[0m     \u001b[0mupdates\u001b[0m \u001b[0mare\u001b[0m \u001b[0mrun\u001b[0m \u001b[0mon\u001b[0m \u001b[0mthe\u001b[0m \u001b[0mfly\u001b[0m \u001b[0;32mand\u001b[0m \u001b[0mthus\u001b[0m \u001b[0mdo\u001b[0m \u001b[0;32mnot\u001b[0m \u001b[0mneed\u001b[0m \u001b[0mto\u001b[0m \u001b[0mbe\u001b[0m \u001b[0mtracked\u001b[0m \u001b[0;32mfor\u001b[0m \u001b[0mlater\u001b[0m\u001b[0;34m\u001b[0m\u001b[0;34m\u001b[0m\u001b[0m\n\u001b[0;32m-> 1030\u001b[0;31m     execution).\n\u001b[0m\u001b[1;32m   1031\u001b[0m \u001b[0;34m\u001b[0m\u001b[0m\n\u001b[1;32m   1032\u001b[0m     \u001b[0mArguments\u001b[0m\u001b[0;34m:\u001b[0m\u001b[0;34m\u001b[0m\u001b[0;34m\u001b[0m\u001b[0m\n",
      "\u001b[0;32m~/opt/anaconda3/lib/python3.7/site-packages/tensorflow_hub/keras_layer.py\u001b[0m in \u001b[0;36mcall\u001b[0;34m(self, inputs, training)\u001b[0m\n\u001b[1;32m    211\u001b[0m     \u001b[0;31m# These checks happen here and not in __init__, because self.trainable is\u001b[0m\u001b[0;34m\u001b[0m\u001b[0;34m\u001b[0m\u001b[0;34m\u001b[0m\u001b[0m\n\u001b[1;32m    212\u001b[0m     \u001b[0;31m# a mutable public attribute.\u001b[0m\u001b[0;34m\u001b[0m\u001b[0;34m\u001b[0m\u001b[0;34m\u001b[0m\u001b[0m\n\u001b[0;32m--> 213\u001b[0;31m     \u001b[0mself\u001b[0m\u001b[0;34m.\u001b[0m\u001b[0m_check_trainability\u001b[0m\u001b[0;34m(\u001b[0m\u001b[0;34m)\u001b[0m\u001b[0;34m\u001b[0m\u001b[0;34m\u001b[0m\u001b[0m\n\u001b[0m\u001b[1;32m    214\u001b[0m \u001b[0;34m\u001b[0m\u001b[0m\n\u001b[1;32m    215\u001b[0m     \u001b[0;31m# We basically want to call this...\u001b[0m\u001b[0;34m\u001b[0m\u001b[0;34m\u001b[0m\u001b[0;34m\u001b[0m\u001b[0m\n",
      "\u001b[0;32m~/opt/anaconda3/lib/python3.7/site-packages/tensorflow_hub/keras_layer.py\u001b[0m in \u001b[0;36m_check_trainability\u001b[0;34m(self)\u001b[0m\n\u001b[1;32m    271\u001b[0m     \u001b[0;32mif\u001b[0m \u001b[0mself\u001b[0m\u001b[0;34m.\u001b[0m\u001b[0m_is_hub_module_v1\u001b[0m\u001b[0;34m:\u001b[0m\u001b[0;34m\u001b[0m\u001b[0;34m\u001b[0m\u001b[0m\n\u001b[1;32m    272\u001b[0m       raise ValueError(\n\u001b[0;32m--> 273\u001b[0;31m           \u001b[0;34m\"Setting hub.KerasLayer.trainable = True is unsupported when \"\u001b[0m\u001b[0;34m\u001b[0m\u001b[0;34m\u001b[0m\u001b[0m\n\u001b[0m\u001b[1;32m    274\u001b[0m           \"loading from the TF1 Hub format.\")\n\u001b[1;32m    275\u001b[0m     \u001b[0;32melif\u001b[0m \u001b[0mself\u001b[0m\u001b[0;34m.\u001b[0m\u001b[0m_signature\u001b[0m\u001b[0;34m:\u001b[0m\u001b[0;34m\u001b[0m\u001b[0;34m\u001b[0m\u001b[0m\n",
      "\u001b[0;31mValueError\u001b[0m: Setting hub.KerasLayer.trainable = True is unsupported when loading from the TF1 Hub format."
     ]
    }
   ],
   "source": [
    "# Extract ELMo features \n",
    "embeddings = elmo([x])"
   ]
  },
  {
   "cell_type": "code",
   "execution_count": null,
   "metadata": {},
   "outputs": [],
   "source": []
  },
  {
   "cell_type": "code",
   "execution_count": null,
   "metadata": {},
   "outputs": [],
   "source": []
  },
  {
   "cell_type": "code",
   "execution_count": null,
   "metadata": {},
   "outputs": [],
   "source": []
  }
 ],
 "metadata": {
  "kernelspec": {
   "display_name": "Python 3",
   "language": "python",
   "name": "python3"
  },
  "language_info": {
   "codemirror_mode": {
    "name": "ipython",
    "version": 3
   },
   "file_extension": ".py",
   "mimetype": "text/x-python",
   "name": "python",
   "nbconvert_exporter": "python",
   "pygments_lexer": "ipython3",
   "version": "3.7.6"
  }
 },
 "nbformat": 4,
 "nbformat_minor": 4
}
